{
  "nbformat": 4,
  "nbformat_minor": 0,
  "metadata": {
    "colab": {
      "provenance": [],
      "gpuType": "V28",
      "authorship_tag": "ABX9TyPfsOnkFOZVU4ZUf5FOyLLC",
      "include_colab_link": true
    },
    "kernelspec": {
      "name": "python3",
      "display_name": "Python 3"
    },
    "language_info": {
      "name": "python"
    },
    "accelerator": "TPU"
  },
  "cells": [
    {
      "cell_type": "markdown",
      "metadata": {
        "id": "view-in-github",
        "colab_type": "text"
      },
      "source": [
        "<a href=\"https://colab.research.google.com/github/Amanuel94/kaggle/blob/main/MNIST_CNN.ipynb\" target=\"_parent\"><img src=\"https://colab.research.google.com/assets/colab-badge.svg\" alt=\"Open In Colab\"/></a>"
      ]
    },
    {
      "cell_type": "code",
      "execution_count": 103,
      "metadata": {
        "id": "fGKnblAEuOAs"
      },
      "outputs": [],
      "source": [
        "import tensorflow as tf\n",
        "import tensorflow_datasets as tfds\n",
        "import matplotlib.pyplot as plt"
      ]
    },
    {
      "cell_type": "code",
      "source": [
        "split = [\"train[:90%]\",\"test\", \"train[90%:]\"]\n",
        "dataset, info = tfds.load(\"mnist\", as_supervised = True, split = split, with_info = True)"
      ],
      "metadata": {
        "id": "BhVmNl14vB62"
      },
      "execution_count": 19,
      "outputs": []
    },
    {
      "cell_type": "code",
      "source": [
        "info"
      ],
      "metadata": {
        "colab": {
          "base_uri": "https://localhost:8080/"
        },
        "id": "Tz3kDlH22f4u",
        "outputId": "fb3cfc2e-7f79-4ec8-c2d3-8cb2984b635b"
      },
      "execution_count": 24,
      "outputs": [
        {
          "output_type": "execute_result",
          "data": {
            "text/plain": [
              "tfds.core.DatasetInfo(\n",
              "    name='mnist',\n",
              "    full_name='mnist/3.0.1',\n",
              "    description=\"\"\"\n",
              "    The MNIST database of handwritten digits.\n",
              "    \"\"\",\n",
              "    homepage='http://yann.lecun.com/exdb/mnist/',\n",
              "    data_dir='/root/tensorflow_datasets/mnist/3.0.1',\n",
              "    file_format=tfrecord,\n",
              "    download_size=11.06 MiB,\n",
              "    dataset_size=21.00 MiB,\n",
              "    features=FeaturesDict({\n",
              "        'image': Image(shape=(28, 28, 1), dtype=uint8),\n",
              "        'label': ClassLabel(shape=(), dtype=int64, num_classes=10),\n",
              "    }),\n",
              "    supervised_keys=('image', 'label'),\n",
              "    disable_shuffling=False,\n",
              "    splits={\n",
              "        'test': <SplitInfo num_examples=10000, num_shards=1>,\n",
              "        'train': <SplitInfo num_examples=60000, num_shards=1>,\n",
              "    },\n",
              "    citation=\"\"\"@article{lecun2010mnist,\n",
              "      title={MNIST handwritten digit database},\n",
              "      author={LeCun, Yann and Cortes, Corinna and Burges, CJ},\n",
              "      journal={ATT Labs [Online]. Available: http://yann.lecun.com/exdb/mnist},\n",
              "      volume={2},\n",
              "      year={2010}\n",
              "    }\"\"\",\n",
              ")"
            ]
          },
          "metadata": {},
          "execution_count": 24
        }
      ]
    },
    {
      "cell_type": "code",
      "source": [
        "train_ds, val_ds, test_ds = dataset"
      ],
      "metadata": {
        "id": "r7rBs5VhyKjU"
      },
      "execution_count": 142,
      "outputs": []
    },
    {
      "cell_type": "code",
      "source": [
        "print(f'train size: {train_ds.cardinality().numpy()}')\n",
        "print(f'val size: {val_ds.cardinality().numpy()}')\n",
        "print(f'test size: {test_ds.cardinality().numpy()}')\n"
      ],
      "metadata": {
        "colab": {
          "base_uri": "https://localhost:8080/"
        },
        "id": "kkEgsuvbyicZ",
        "outputId": "ff9aaf7d-5262-4469-c671-1d375e051bd8"
      },
      "execution_count": 143,
      "outputs": [
        {
          "output_type": "stream",
          "name": "stdout",
          "text": [
            "train size: 54000\n",
            "val size: 10000\n",
            "test size: 6000\n"
          ]
        }
      ]
    },
    {
      "cell_type": "code",
      "source": [
        "fig = tfds.show_examples(train_ds, info)"
      ],
      "metadata": {
        "colab": {
          "base_uri": "https://localhost:8080/",
          "height": 749
        },
        "id": "SLgmEmhVvL_I",
        "outputId": "5ed9bf06-5fce-4ba3-b5ff-59730227800d"
      },
      "execution_count": 23,
      "outputs": [
        {
          "output_type": "display_data",
          "data": {
            "text/plain": [
              "<Figure size 900x900 with 9 Axes>"
            ],
            "image/png": "[encoded data removed]"
          },
          "metadata": {}
        }
      ]
    },
    {
      "cell_type": "code",
      "source": [
        "model = tf.keras.models.Sequential([\n",
        "    tf.keras.layers.Input(shape = (28, 28, 1)),\n",
        "    tf.keras.layers.Conv2D(filters = 5, kernel_size = 3, strides = 1, padding = \"same\", activation = \"relu\"),\n",
        "    tf.keras.layers.Conv2D(filters = 8, kernel_size = 3, strides = 1, padding = \"same\", activation = \"relu\"),\n",
        "    tf.keras.layers.MaxPooling2D(pool_size = 2, strides = 1),\n",
        "    tf.keras.layers.BatchNormalization(),\n",
        "    tf.keras.layers.Flatten(),\n",
        "    tf.keras.layers.Dense(units = 20, activation = \"selu\", kernel_initializer = \"lecun_uniform\"),\n",
        "    tf.keras.layers.BatchNormalization(),\n",
        "    tf.keras.layers.Dense(units = 10, activation = \"softmax\")\n",
        "])\n",
        "\n",
        "model.summary()"
      ],
      "metadata": {
        "colab": {
          "base_uri": "https://localhost:8080/"
        },
        "id": "DHZrQQY70pXM",
        "outputId": "52cf0d99-6994-47be-a215-1fc61adee347"
      },
      "execution_count": 84,
      "outputs": [
        {
          "output_type": "stream",
          "name": "stdout",
          "text": [
            "Model: \"sequential_19\"\n",
            "_________________________________________________________________\n",
            " Layer (type)                Output Shape              Param #   \n",
            "=================================================================\n",
            " conv2d_49 (Conv2D)          (None, 28, 28, 5)         50        \n",
            "                                                                 \n",
            " conv2d_50 (Conv2D)          (None, 28, 28, 8)         368       \n",
            "                                                                 \n",
            " max_pooling2d_22 (MaxPooli  (None, 27, 27, 8)         0         \n",
            " ng2D)                                                           \n",
            "                                                                 \n",
            " batch_normalization_47 (Ba  (None, 27, 27, 8)         32        \n",
            " tchNormalization)                                               \n",
            "                                                                 \n",
            " flatten_4 (Flatten)         (None, 5832)              0         \n",
            "                                                                 \n",
            " dense_40 (Dense)            (None, 20)                116660    \n",
            "                                                                 \n",
            " batch_normalization_48 (Ba  (None, 20)                80        \n",
            " tchNormalization)                                               \n",
            "                                                                 \n",
            " dense_41 (Dense)            (None, 10)                210       \n",
            "                                                                 \n",
            "=================================================================\n",
            "Total params: 117400 (458.59 KB)\n",
            "Trainable params: 117344 (458.38 KB)\n",
            "Non-trainable params: 56 (224.00 Byte)\n",
            "_________________________________________________________________\n"
          ]
        }
      ]
    },
    {
      "cell_type": "code",
      "source": [
        "model.compile(\n",
        "    optimizer = \"Adam\",\n",
        "    loss = \"sparse_categorical_crossentropy\",\n",
        "    metrics = [\"accuracy\"]\n",
        ")"
      ],
      "metadata": {
        "id": "kbnpZylf0bPk"
      },
      "execution_count": 85,
      "outputs": []
    },
    {
      "cell_type": "code",
      "source": [
        "n_batch = 32\n",
        "batched_train_ds = train_ds.batch(n_batch).prefetch(1)\n",
        "batched_val_ds = val_ds.batch(n_batch).prefetch(1)\n",
        "batched_test_ds = test_ds.batch(n_batch).prefetch(1)\n",
        "early_stopping_cb  = tf.keras.callbacks.EarlyStopping(patience = 10)\n",
        "model.fit(batched_train_ds, validation_data = batched_val_ds, epochs = 50, callbacks = [early_stopping_cb])"
      ],
      "metadata": {
        "colab": {
          "base_uri": "https://localhost:8080/"
        },
        "id": "vIoc45F45doC",
        "outputId": "87ebcf0e-660b-4964-f48e-ed421592ead6"
      },
      "execution_count": 86,
      "outputs": [
        {
          "output_type": "stream",
          "name": "stdout",
          "text": [
            "Epoch 1/50\n",
            "1688/1688 [==============================] - 19s 10ms/step - loss: 0.1482 - accuracy: 0.9607 - val_loss: 0.0660 - val_accuracy: 0.9803\n",
            "Epoch 2/50\n",
            "1688/1688 [==============================] - 17s 10ms/step - loss: 0.0588 - accuracy: 0.9832 - val_loss: 0.0721 - val_accuracy: 0.9772\n",
            "Epoch 3/50\n",
            "1688/1688 [==============================] - 17s 10ms/step - loss: 0.0396 - accuracy: 0.9891 - val_loss: 0.0650 - val_accuracy: 0.9800\n",
            "Epoch 4/50\n",
            "1688/1688 [==============================] - 16s 10ms/step - loss: 0.0258 - accuracy: 0.9930 - val_loss: 0.0984 - val_accuracy: 0.9723\n",
            "Epoch 5/50\n",
            "1688/1688 [==============================] - 17s 10ms/step - loss: 0.0185 - accuracy: 0.9946 - val_loss: 0.0705 - val_accuracy: 0.9805\n",
            "Epoch 6/50\n",
            "1688/1688 [==============================] - 17s 10ms/step - loss: 0.0144 - accuracy: 0.9957 - val_loss: 0.0748 - val_accuracy: 0.9817\n",
            "Epoch 7/50\n",
            "1688/1688 [==============================] - 17s 10ms/step - loss: 0.0115 - accuracy: 0.9964 - val_loss: 0.0733 - val_accuracy: 0.9811\n",
            "Epoch 8/50\n",
            "1688/1688 [==============================] - 17s 10ms/step - loss: 0.0101 - accuracy: 0.9968 - val_loss: 0.0736 - val_accuracy: 0.9826\n",
            "Epoch 9/50\n",
            "1688/1688 [==============================] - 16s 10ms/step - loss: 0.0076 - accuracy: 0.9976 - val_loss: 0.0663 - val_accuracy: 0.9840\n",
            "Epoch 10/50\n",
            "1688/1688 [==============================] - 16s 10ms/step - loss: 0.0073 - accuracy: 0.9977 - val_loss: 0.0811 - val_accuracy: 0.9819\n",
            "Epoch 11/50\n",
            "1688/1688 [==============================] - 16s 10ms/step - loss: 0.0064 - accuracy: 0.9981 - val_loss: 0.0757 - val_accuracy: 0.9826\n",
            "Epoch 12/50\n",
            "1688/1688 [==============================] - 17s 10ms/step - loss: 0.0043 - accuracy: 0.9987 - val_loss: 0.0719 - val_accuracy: 0.9846\n",
            "Epoch 13/50\n",
            "1688/1688 [==============================] - 17s 10ms/step - loss: 0.0055 - accuracy: 0.9982 - val_loss: 0.1067 - val_accuracy: 0.9800\n"
          ]
        },
        {
          "output_type": "execute_result",
          "data": {
            "text/plain": [
              "<keras.src.callbacks.History at 0x7dfad82a0af0>"
            ]
          },
          "metadata": {},
          "execution_count": 86
        }
      ]
    },
    {
      "cell_type": "code",
      "source": [
        "model.evaluate(batched_test_ds)"
      ],
      "metadata": {
        "colab": {
          "base_uri": "https://localhost:8080/"
        },
        "id": "muHdi9my69wp",
        "outputId": "1eeb5f14-e8ed-4602-ba54-38c44f88a2ca"
      },
      "execution_count": 87,
      "outputs": [
        {
          "output_type": "stream",
          "name": "stdout",
          "text": [
            "188/188 [==============================] - 1s 5ms/step - loss: 0.1147 - accuracy: 0.9788\n"
          ]
        },
        {
          "output_type": "execute_result",
          "data": {
            "text/plain": [
              "[0.11473148316144943, 0.9788333177566528]"
            ]
          },
          "metadata": {},
          "execution_count": 87
        }
      ]
    },
    {
      "cell_type": "code",
      "source": [
        "model = tf.keras.models.Sequential([\n",
        "    tf.keras.layers.Input(shape = (28, 28, 1)),\n",
        "    tf.keras.layers.Conv2D(filters = 5, kernel_size = 3, strides = 2, padding = \"same\", activation = \"relu\"),\n",
        "    tf.keras.layers.Conv2D(filters = 5, kernel_size = 3, strides = 1, padding = \"same\", activation = \"relu\"),\n",
        "    tf.keras.layers.MaxPooling2D(pool_size = 2, strides = 1),\n",
        "    tf.keras.layers.Conv2D(filters = 5, kernel_size = 1, strides = 1, padding = \"same\", activation = \"relu\"),\n",
        "    tf.keras.layers.MaxPooling2D(pool_size = 2, strides = 1),\n",
        "    tf.keras.layers.BatchNormalization(),\n",
        "    tf.keras.layers.Flatten(),\n",
        "    tf.keras.layers.Dense(units = 20, activation = \"selu\", kernel_initializer = \"lecun_uniform\"),\n",
        "    tf.keras.layers.BatchNormalization(),\n",
        "    tf.keras.layers.Dense(units = 20, activation = \"selu\", kernel_initializer = \"lecun_uniform\"),\n",
        "    tf.keras.layers.BatchNormalization(),\n",
        "    tf.keras.layers.Dense(units = 10, activation = \"softmax\")\n",
        "])\n",
        "\n",
        "model.compile(\n",
        "    optimizer = \"Adam\",\n",
        "    loss = \"sparse_categorical_crossentropy\",\n",
        "    metrics = [\"accuracy\"]\n",
        ")\n",
        "\n",
        "batched_train_ds = train_ds.batch(n_batch).prefetch(1)\n",
        "batched_val_ds = val_ds.batch(n_batch).prefetch(1)\n",
        "batched_test_ds = test_ds.batch(n_batch).prefetch(1)\n",
        "\n",
        "early_stopping_cb  = tf.keras.callbacks.EarlyStopping(patience = 10)\n",
        "model.fit(batched_train_ds, validation_data = batched_val_ds, epochs = 50, callbacks = [early_stopping_cb])"
      ],
      "metadata": {
        "colab": {
          "base_uri": "https://localhost:8080/"
        },
        "id": "14RnF2HgBE7o",
        "outputId": "8a74cc84-bec0-4896-cc2e-f8a5484558ef"
      },
      "execution_count": 82,
      "outputs": [
        {
          "output_type": "stream",
          "name": "stdout",
          "text": [
            "Epoch 1/50\n",
            "1688/1688 [==============================] - 16s 8ms/step - loss: 0.2560 - accuracy: 0.9275 - val_loss: 0.1029 - val_accuracy: 0.9671\n",
            "Epoch 2/50\n",
            "1688/1688 [==============================] - 14s 8ms/step - loss: 0.1018 - accuracy: 0.9693 - val_loss: 0.0729 - val_accuracy: 0.9766\n",
            "Epoch 3/50\n",
            "1688/1688 [==============================] - 14s 8ms/step - loss: 0.0810 - accuracy: 0.9757 - val_loss: 0.0682 - val_accuracy: 0.9784\n",
            "Epoch 4/50\n",
            "1688/1688 [==============================] - 14s 8ms/step - loss: 0.0676 - accuracy: 0.9799 - val_loss: 0.0712 - val_accuracy: 0.9777\n",
            "Epoch 5/50\n",
            "1688/1688 [==============================] - 14s 8ms/step - loss: 0.0578 - accuracy: 0.9830 - val_loss: 0.0801 - val_accuracy: 0.9745\n",
            "Epoch 6/50\n",
            "1688/1688 [==============================] - 14s 8ms/step - loss: 0.0507 - accuracy: 0.9852 - val_loss: 0.0746 - val_accuracy: 0.9783\n",
            "Epoch 7/50\n",
            "1688/1688 [==============================] - 14s 8ms/step - loss: 0.0446 - accuracy: 0.9866 - val_loss: 0.0696 - val_accuracy: 0.9784\n",
            "Epoch 8/50\n",
            "1688/1688 [==============================] - 14s 8ms/step - loss: 0.0389 - accuracy: 0.9887 - val_loss: 0.0895 - val_accuracy: 0.9754\n",
            "Epoch 9/50\n",
            "1688/1688 [==============================] - 14s 8ms/step - loss: 0.0346 - accuracy: 0.9892 - val_loss: 0.1012 - val_accuracy: 0.9736\n",
            "Epoch 10/50\n",
            "1688/1688 [==============================] - 14s 8ms/step - loss: 0.0309 - accuracy: 0.9907 - val_loss: 0.0904 - val_accuracy: 0.9763\n",
            "Epoch 11/50\n",
            "1688/1688 [==============================] - 14s 8ms/step - loss: 0.0273 - accuracy: 0.9920 - val_loss: 0.0887 - val_accuracy: 0.9771\n",
            "Epoch 12/50\n",
            "1688/1688 [==============================] - 14s 8ms/step - loss: 0.0254 - accuracy: 0.9926 - val_loss: 0.0841 - val_accuracy: 0.9784\n",
            "Epoch 13/50\n",
            "1688/1688 [==============================] - 14s 9ms/step - loss: 0.0236 - accuracy: 0.9927 - val_loss: 0.0793 - val_accuracy: 0.9801\n"
          ]
        },
        {
          "output_type": "execute_result",
          "data": {
            "text/plain": [
              "<keras.src.callbacks.History at 0x7dfad87bc4f0>"
            ]
          },
          "metadata": {},
          "execution_count": 82
        }
      ]
    },
    {
      "cell_type": "code",
      "source": [
        "model.evaluate(batched_test_ds)"
      ],
      "metadata": {
        "colab": {
          "base_uri": "https://localhost:8080/"
        },
        "id": "M0Lg9Wg6CgTE",
        "outputId": "c44215b4-b227-46e8-fc2a-07df4d466048"
      },
      "execution_count": 83,
      "outputs": [
        {
          "output_type": "stream",
          "name": "stdout",
          "text": [
            "188/188 [==============================] - 1s 3ms/step - loss: 0.0923 - accuracy: 0.9757\n"
          ]
        },
        {
          "output_type": "execute_result",
          "data": {
            "text/plain": [
              "[0.09233127534389496, 0.9756666421890259]"
            ]
          },
          "metadata": {},
          "execution_count": 83
        }
      ]
    },
    {
      "cell_type": "code",
      "source": [
        "dataAugmenter = tf.keras.models.Sequential([\n",
        "    tf.keras.layers.RandomZoom(\n",
        "        height_factor=(-0.05, -0.15),\n",
        "        width_factor=(-0.05, -0.15)),\n",
        "])"
      ],
      "metadata": {
        "id": "npofJCQAPuGO"
      },
      "execution_count": 179,
      "outputs": []
    },
    {
      "cell_type": "code",
      "source": [
        "for image, label in train_ds.take(2):\n",
        "  image = dataAugmenter(image)\n",
        "  plt.imshow(image[:, :, 0])"
      ],
      "metadata": {
        "colab": {
          "base_uri": "https://localhost:8080/",
          "height": 430
        },
        "id": "22KbshYnRjib",
        "outputId": "423ecf46-6bab-43e7-dc9c-df68720edbd5"
      },
      "execution_count": 182,
      "outputs": [
        {
          "output_type": "display_data",
          "data": {
            "text/plain": [
              "<Figure size 640x480 with 1 Axes>"
            ],
            "image/png": "[encoded data removed]"
          },
          "metadata": {}
        }
      ]
    },
    {
      "cell_type": "code",
      "source": [
        "cast_train_ds = train_ds.map(lambda x, y : ((tf.cast(x, tf.float32)), y), num_parallel_calls=tf.data.AUTOTUNE)\n",
        "aug_ds = cast_train_ds.map(lambda x, y : (dataAugmenter(x), y), num_parallel_calls=tf.data.AUTOTUNE)\n",
        "final_train_ds = cast_train_ds.concatenate(aug_ds).shuffle(1000)"
      ],
      "metadata": {
        "id": "sdchuCXoUfcl"
      },
      "execution_count": 183,
      "outputs": []
    },
    {
      "cell_type": "code",
      "source": [
        "final_train_ds.cardinality().numpy()"
      ],
      "metadata": {
        "colab": {
          "base_uri": "https://localhost:8080/"
        },
        "id": "r4mFuZs4XlqV",
        "outputId": "1d8912e8-79ec-4548-e668-ace567f5596f"
      },
      "execution_count": 184,
      "outputs": [
        {
          "output_type": "execute_result",
          "data": {
            "text/plain": [
              "108000"
            ]
          },
          "metadata": {},
          "execution_count": 184
        }
      ]
    },
    {
      "cell_type": "code",
      "source": [
        "model = tf.keras.models.Sequential([\n",
        "    tf.keras.layers.Input(shape = (28, 28, 1)),\n",
        "    tf.keras.layers.BatchNormalization(),\n",
        "    tf.keras.layers.UpSampling2D(size=(2, 2), data_format=None, interpolation=\"nearest\"),\n",
        "    tf.keras.layers.Conv2D(filters = 5, kernel_size = 3, strides = 1, padding = \"same\", activation = \"relu\"),\n",
        "    tf.keras.layers.MaxPooling2D(pool_size = 2, strides = 2),\n",
        "    tf.keras.layers.Conv2D(filters = 5, kernel_size = 1, strides = 1, padding = \"same\", activation = \"relu\"),\n",
        "    tf.keras.layers.MaxPooling2D(pool_size = 2, strides = 1),\n",
        "    tf.keras.layers.BatchNormalization(),\n",
        "    tf.keras.layers.Flatten(),\n",
        "    tf.keras.layers.Dense(units = 20, activation = \"selu\", kernel_initializer = \"lecun_uniform\"),\n",
        "    tf.keras.layers.BatchNormalization(),\n",
        "    tf.keras.layers.Dense(units = 10, activation = \"softmax\")\n",
        "])\n",
        "\n",
        "model.compile(\n",
        "    optimizer = \"Adam\",\n",
        "    loss = \"sparse_categorical_crossentropy\",\n",
        "    metrics = [\"accuracy\"]\n",
        ")\n",
        "\n",
        "batched_train_ds = final_train_ds.batch(n_batch).prefetch(1)\n",
        "batched_val_ds = val_ds.batch(n_batch).prefetch(1)\n",
        "batched_test_ds = test_ds.batch(n_batch).prefetch(1)\n",
        "\n",
        "early_stopping_cb  = tf.keras.callbacks.EarlyStopping(patience = 10)\n",
        "model.fit(batched_train_ds, validation_data = batched_val_ds, epochs = 50, callbacks = [early_stopping_cb])"
      ],
      "metadata": {
        "colab": {
          "base_uri": "https://localhost:8080/"
        },
        "id": "VpCEq8TSEy1E",
        "outputId": "242cb567-f5af-49aa-c74b-f856a95c870d"
      },
      "execution_count": 186,
      "outputs": [
        {
          "output_type": "stream",
          "name": "stdout",
          "text": [
            "Epoch 1/50\n",
            "3375/3375 [==============================] - 49s 14ms/step - loss: 0.1449 - accuracy: 0.9586 - val_loss: 0.3477 - val_accuracy: 0.8855\n",
            "Epoch 2/50\n",
            "3375/3375 [==============================] - 46s 14ms/step - loss: 0.0728 - accuracy: 0.9775 - val_loss: 0.1682 - val_accuracy: 0.9495\n",
            "Epoch 3/50\n",
            "3375/3375 [==============================] - 46s 14ms/step - loss: 0.0571 - accuracy: 0.9823 - val_loss: 0.1734 - val_accuracy: 0.9463\n",
            "Epoch 4/50\n",
            "3375/3375 [==============================] - 46s 14ms/step - loss: 0.0474 - accuracy: 0.9850 - val_loss: 0.2057 - val_accuracy: 0.9385\n",
            "Epoch 5/50\n",
            "3375/3375 [==============================] - 46s 14ms/step - loss: 0.0412 - accuracy: 0.9865 - val_loss: 0.1539 - val_accuracy: 0.9555\n",
            "Epoch 6/50\n",
            "3375/3375 [==============================] - 47s 14ms/step - loss: 0.0361 - accuracy: 0.9884 - val_loss: 0.1199 - val_accuracy: 0.9647\n",
            "Epoch 7/50\n",
            "3375/3375 [==============================] - 46s 14ms/step - loss: 0.0317 - accuracy: 0.9893 - val_loss: 0.1246 - val_accuracy: 0.9643\n",
            "Epoch 8/50\n",
            "3375/3375 [==============================] - 46s 14ms/step - loss: 0.0296 - accuracy: 0.9903 - val_loss: 0.0890 - val_accuracy: 0.9748\n",
            "Epoch 9/50\n",
            "3375/3375 [==============================] - 46s 14ms/step - loss: 0.0266 - accuracy: 0.9913 - val_loss: 0.1455 - val_accuracy: 0.9615\n",
            "Epoch 10/50\n",
            "3375/3375 [==============================] - 47s 14ms/step - loss: 0.0249 - accuracy: 0.9916 - val_loss: 0.1248 - val_accuracy: 0.9661\n",
            "Epoch 11/50\n",
            "3375/3375 [==============================] - 47s 14ms/step - loss: 0.0218 - accuracy: 0.9928 - val_loss: 0.1234 - val_accuracy: 0.9691\n",
            "Epoch 12/50\n",
            "3375/3375 [==============================] - 47s 14ms/step - loss: 0.0218 - accuracy: 0.9924 - val_loss: 0.1217 - val_accuracy: 0.9686\n",
            "Epoch 13/50\n",
            "3375/3375 [==============================] - 47s 14ms/step - loss: 0.0204 - accuracy: 0.9931 - val_loss: 0.1335 - val_accuracy: 0.9643\n",
            "Epoch 14/50\n",
            "3375/3375 [==============================] - 46s 14ms/step - loss: 0.0200 - accuracy: 0.9934 - val_loss: 0.1440 - val_accuracy: 0.9636\n",
            "Epoch 15/50\n",
            "3375/3375 [==============================] - 47s 14ms/step - loss: 0.0178 - accuracy: 0.9938 - val_loss: 0.0923 - val_accuracy: 0.9776\n",
            "Epoch 16/50\n",
            "3375/3375 [==============================] - 46s 14ms/step - loss: 0.0181 - accuracy: 0.9939 - val_loss: 0.1807 - val_accuracy: 0.9547\n",
            "Epoch 17/50\n",
            "3375/3375 [==============================] - 46s 14ms/step - loss: 0.0153 - accuracy: 0.9949 - val_loss: 0.1424 - val_accuracy: 0.9662\n",
            "Epoch 18/50\n",
            "3375/3375 [==============================] - 46s 14ms/step - loss: 0.0163 - accuracy: 0.9944 - val_loss: 0.1648 - val_accuracy: 0.9610\n"
          ]
        },
        {
          "output_type": "execute_result",
          "data": {
            "text/plain": [
              "<keras.src.callbacks.History at 0x7df9e0251ea0>"
            ]
          },
          "metadata": {},
          "execution_count": 186
        }
      ]
    },
    {
      "cell_type": "code",
      "source": [
        "model.evaluate(batched_test_ds)"
      ],
      "metadata": {
        "colab": {
          "base_uri": "https://localhost:8080/"
        },
        "id": "9imXztZqJUUC",
        "outputId": "bf43b864-5869-48f5-bae0-c7a493afc2fd"
      },
      "execution_count": 187,
      "outputs": [
        {
          "output_type": "stream",
          "name": "stdout",
          "text": [
            "188/188 [==============================] - 1s 6ms/step - loss: 0.1996 - accuracy: 0.9588\n"
          ]
        },
        {
          "output_type": "execute_result",
          "data": {
            "text/plain": [
              "[0.19960233569145203, 0.9588333368301392]"
            ]
          },
          "metadata": {},
          "execution_count": 187
        }
      ]
    },
    {
      "cell_type": "code",
      "source": [
        "model = tf.keras.models.Sequential([\n",
        "    tf.keras.layers.Input(shape = (28, 28, 1)),\n",
        "    tf.keras.layers.BatchNormalization(),\n",
        "    tf.keras.layers.Conv2D(filters = 5, kernel_size = 3, strides = 1, padding = \"same\", activation = \"relu\"),\n",
        "    tf.keras.layers.Conv2D(filters = 5, kernel_size = 1, strides = 1, padding = \"same\", activation = \"relu\"),\n",
        "    tf.keras.layers.MaxPooling2D(pool_size = 2, strides = 1),\n",
        "    tf.keras.layers.BatchNormalization(),\n",
        "    tf.keras.layers.Flatten(),\n",
        "    tf.keras.layers.Dense(units = 20, activation = \"selu\", kernel_initializer = \"lecun_uniform\"),\n",
        "    tf.keras.layers.BatchNormalization(),\n",
        "    tf.keras.layers.Dense(units = 10, activation = \"softmax\")\n",
        "])\n",
        "\n",
        "model.compile(\n",
        "    optimizer = \"Adam\",\n",
        "    loss = \"sparse_categorical_crossentropy\",\n",
        "    metrics = [\"accuracy\"]\n",
        ")\n",
        "\n",
        "batched_train_ds = final_train_ds.batch(n_batch).prefetch(1)\n",
        "batched_val_ds = val_ds.batch(n_batch).prefetch(1)\n",
        "batched_test_ds = test_ds.batch(n_batch).prefetch(1)\n",
        "\n",
        "early_stopping_cb  = tf.keras.callbacks.EarlyStopping(patience = 10)\n",
        "model.fit(batched_train_ds, validation_data = batched_val_ds, epochs = 50, callbacks = [early_stopping_cb])"
      ],
      "metadata": {
        "colab": {
          "base_uri": "https://localhost:8080/"
        },
        "id": "Ec7JIQ72dX4l",
        "outputId": "c21a7534-87f6-441a-a219-cce57bcc5736"
      },
      "execution_count": 164,
      "outputs": [
        {
          "output_type": "stream",
          "name": "stdout",
          "text": [
            "Epoch 1/50\n",
            "3375/3375 [==============================] - 36s 10ms/step - loss: 0.1954 - accuracy: 0.9435 - val_loss: 0.2178 - val_accuracy: 0.9357\n",
            "Epoch 2/50\n",
            "3375/3375 [==============================] - 35s 10ms/step - loss: 0.1185 - accuracy: 0.9638 - val_loss: 0.2334 - val_accuracy: 0.9350\n",
            "Epoch 3/50\n",
            "3375/3375 [==============================] - 35s 10ms/step - loss: 0.1007 - accuracy: 0.9691 - val_loss: 0.1790 - val_accuracy: 0.9508\n",
            "Epoch 4/50\n",
            "3375/3375 [==============================] - 36s 11ms/step - loss: 0.0896 - accuracy: 0.9722 - val_loss: 0.1779 - val_accuracy: 0.9532\n",
            "Epoch 5/50\n",
            "3375/3375 [==============================] - 36s 11ms/step - loss: 0.0811 - accuracy: 0.9760 - val_loss: 0.1675 - val_accuracy: 0.9528\n",
            "Epoch 6/50\n",
            "3375/3375 [==============================] - 35s 10ms/step - loss: 0.0760 - accuracy: 0.9768 - val_loss: 0.1391 - val_accuracy: 0.9590\n",
            "Epoch 7/50\n",
            "3375/3375 [==============================] - 35s 10ms/step - loss: 0.0727 - accuracy: 0.9782 - val_loss: 0.1276 - val_accuracy: 0.9626\n",
            "Epoch 8/50\n",
            "3375/3375 [==============================] - 35s 10ms/step - loss: 0.0668 - accuracy: 0.9798 - val_loss: 0.1838 - val_accuracy: 0.9498\n",
            "Epoch 9/50\n",
            "3375/3375 [==============================] - 35s 10ms/step - loss: 0.0657 - accuracy: 0.9807 - val_loss: 0.1625 - val_accuracy: 0.9568\n",
            "Epoch 10/50\n",
            "3375/3375 [==============================] - 35s 10ms/step - loss: 0.0617 - accuracy: 0.9813 - val_loss: 0.1211 - val_accuracy: 0.9678\n",
            "Epoch 11/50\n",
            "3375/3375 [==============================] - 35s 10ms/step - loss: 0.0594 - accuracy: 0.9824 - val_loss: 0.2201 - val_accuracy: 0.9420\n",
            "Epoch 12/50\n",
            "3375/3375 [==============================] - 35s 10ms/step - loss: 0.0594 - accuracy: 0.9824 - val_loss: 0.1219 - val_accuracy: 0.9670\n",
            "Epoch 13/50\n",
            "3375/3375 [==============================] - 36s 11ms/step - loss: 0.0579 - accuracy: 0.9823 - val_loss: 0.1626 - val_accuracy: 0.9568\n",
            "Epoch 14/50\n",
            "3375/3375 [==============================] - 36s 11ms/step - loss: 0.0553 - accuracy: 0.9839 - val_loss: 0.1408 - val_accuracy: 0.9616\n",
            "Epoch 15/50\n",
            "3375/3375 [==============================] - 35s 11ms/step - loss: 0.0539 - accuracy: 0.9837 - val_loss: 0.1528 - val_accuracy: 0.9613\n",
            "Epoch 16/50\n",
            "3375/3375 [==============================] - 36s 11ms/step - loss: 0.0535 - accuracy: 0.9842 - val_loss: 0.1443 - val_accuracy: 0.9624\n",
            "Epoch 17/50\n",
            "3375/3375 [==============================] - 35s 10ms/step - loss: 0.0530 - accuracy: 0.9845 - val_loss: 0.1398 - val_accuracy: 0.9590\n",
            "Epoch 18/50\n",
            "3375/3375 [==============================] - 35s 10ms/step - loss: 0.0511 - accuracy: 0.9853 - val_loss: 0.2327 - val_accuracy: 0.9451\n",
            "Epoch 19/50\n",
            "3375/3375 [==============================] - 35s 10ms/step - loss: 0.0512 - accuracy: 0.9848 - val_loss: 0.1473 - val_accuracy: 0.9599\n",
            "Epoch 20/50\n",
            "3375/3375 [==============================] - 35s 10ms/step - loss: 0.0497 - accuracy: 0.9854 - val_loss: 0.1765 - val_accuracy: 0.9557\n"
          ]
        },
        {
          "output_type": "execute_result",
          "data": {
            "text/plain": [
              "<keras.src.callbacks.History at 0x7dfa04588f10>"
            ]
          },
          "metadata": {},
          "execution_count": 164
        }
      ]
    },
    {
      "cell_type": "code",
      "source": [
        "model = tf.keras.models.Sequential([\n",
        "    tf.keras.layers.Input(shape = (28, 28, 1)),\n",
        "    tf.keras.layers.BatchNormalization(),\n",
        "    tf.keras.layers.Conv2D(filters = 64, kernel_size = 3, strides = 1, padding = \"same\", activation = \"relu\"),\n",
        "    tf.keras.layers.Conv2D(filters = 32, kernel_size = 1, strides = 1, padding = \"same\", activation = \"relu\"),\n",
        "    tf.keras.layers.MaxPooling2D(pool_size = 2, strides = 1),\n",
        "    tf.keras.layers.BatchNormalization(),\n",
        "    tf.keras.layers.Flatten(),\n",
        "    tf.keras.layers.Dropout(0.5),\n",
        "    tf.keras.layers.Dense(units = 128, activation = \"selu\", kernel_initializer = \"lecun_uniform\"),\n",
        "    tf.keras.layers.Dropout(0.25),\n",
        "    tf.keras.layers.Dense(units = 10, activation = \"softmax\")\n",
        "])\n",
        "\n",
        "model.compile(\n",
        "    optimizer = \"Adam\",\n",
        "    loss = \"sparse_categorical_crossentropy\",\n",
        "    metrics = [\"accuracy\"]\n",
        ")\n",
        "\n",
        "batched_train_ds = final_train_ds.batch(n_batch).prefetch(1)\n",
        "batched_val_ds = val_ds.batch(n_batch).prefetch(1)\n",
        "batched_test_ds = test_ds.batch(n_batch).prefetch(1)\n",
        "\n",
        "early_stopping_cb  = tf.keras.callbacks.EarlyStopping(patience = 10)\n",
        "model.fit(batched_train_ds, validation_data = batched_val_ds, epochs = 50, callbacks = [early_stopping_cb])"
      ],
      "metadata": {
        "colab": {
          "base_uri": "https://localhost:8080/"
        },
        "id": "PstMsWG3fSeX",
        "outputId": "c5757d69-2959-4b77-9be2-f8e1297d143d"
      },
      "execution_count": 188,
      "outputs": [
        {
          "output_type": "stream",
          "name": "stdout",
          "text": [
            "Epoch 1/50\n",
            "3375/3375 [==============================] - 63s 18ms/step - loss: 0.1786 - accuracy: 0.9556 - val_loss: 0.0723 - val_accuracy: 0.9782\n",
            "Epoch 2/50\n",
            "3375/3375 [==============================] - 60s 18ms/step - loss: 0.0721 - accuracy: 0.9791 - val_loss: 0.0799 - val_accuracy: 0.9766\n",
            "Epoch 3/50\n",
            "3375/3375 [==============================] - 60s 18ms/step - loss: 0.0532 - accuracy: 0.9840 - val_loss: 0.0518 - val_accuracy: 0.9878\n",
            "Epoch 4/50\n",
            "3375/3375 [==============================] - 60s 18ms/step - loss: 0.0427 - accuracy: 0.9871 - val_loss: 0.0564 - val_accuracy: 0.9889\n",
            "Epoch 5/50\n",
            "3375/3375 [==============================] - 60s 18ms/step - loss: 0.0332 - accuracy: 0.9898 - val_loss: 0.0845 - val_accuracy: 0.9847\n",
            "Epoch 6/50\n",
            "3375/3375 [==============================] - 60s 18ms/step - loss: 0.0319 - accuracy: 0.9904 - val_loss: 0.0646 - val_accuracy: 0.9874\n",
            "Epoch 7/50\n",
            "3375/3375 [==============================] - 61s 18ms/step - loss: 0.0267 - accuracy: 0.9920 - val_loss: 0.0707 - val_accuracy: 0.9869\n",
            "Epoch 8/50\n",
            "3375/3375 [==============================] - 60s 18ms/step - loss: 0.0253 - accuracy: 0.9928 - val_loss: 0.0840 - val_accuracy: 0.9889\n",
            "Epoch 9/50\n",
            "3375/3375 [==============================] - 61s 18ms/step - loss: 0.0229 - accuracy: 0.9934 - val_loss: 0.0726 - val_accuracy: 0.9901\n",
            "Epoch 10/50\n",
            "3375/3375 [==============================] - 60s 18ms/step - loss: 0.0215 - accuracy: 0.9938 - val_loss: 0.0753 - val_accuracy: 0.9881\n",
            "Epoch 11/50\n",
            "3375/3375 [==============================] - 60s 18ms/step - loss: 0.0201 - accuracy: 0.9943 - val_loss: 0.0646 - val_accuracy: 0.9891\n",
            "Epoch 12/50\n",
            "3375/3375 [==============================] - 60s 18ms/step - loss: 0.0193 - accuracy: 0.9947 - val_loss: 0.0731 - val_accuracy: 0.9889\n",
            "Epoch 13/50\n",
            "3375/3375 [==============================] - 60s 18ms/step - loss: 0.0186 - accuracy: 0.9946 - val_loss: 0.0868 - val_accuracy: 0.9874\n"
          ]
        },
        {
          "output_type": "execute_result",
          "data": {
            "text/plain": [
              "<keras.src.callbacks.History at 0x7df9e06cb6a0>"
            ]
          },
          "metadata": {},
          "execution_count": 188
        }
      ]
    },
    {
      "cell_type": "code",
      "source": [
        "model = tf.keras.models.Sequential([\n",
        "    tf.keras.layers.Input(shape = (28, 28, 1)),\n",
        "    tf.keras.layers.BatchNormalization(),\n",
        "    tf.keras.layers.Conv2D(filters = 64, kernel_size = 3, strides = 1, padding = \"same\", activation = \"relu\"),\n",
        "    tf.keras.layers.Conv2D(filters = 32, kernel_size = 1, strides = 1, padding = \"same\", activation = \"relu\"),\n",
        "    tf.keras.layers.MaxPooling2D(pool_size = 2, strides = 1),\n",
        "    tf.keras.layers.BatchNormalization(),\n",
        "    tf.keras.layers.Flatten(),\n",
        "    tf.keras.layers.Dropout(0.5),\n",
        "    tf.keras.layers.Dense(units = 128, activation = \"selu\", kernel_initializer = \"lecun_uniform\"),\n",
        "    tf.keras.layers.Dropout(0.1),\n",
        "    tf.keras.layers.Dense(units = 10, activation = \"softmax\")\n",
        "])\n",
        "\n",
        "model.compile(\n",
        "    optimizer = \"Adam\",\n",
        "    loss = \"sparse_categorical_crossentropy\",\n",
        "    metrics = [\"accuracy\"]\n",
        ")\n",
        "\n",
        "batched_train_ds = train_ds.batch(n_batch).prefetch(1)\n",
        "batched_val_ds = val_ds.batch(n_batch).prefetch(1)\n",
        "batched_test_ds = test_ds.batch(n_batch).prefetch(1)\n",
        "\n",
        "early_stopping_cb  = tf.keras.callbacks.EarlyStopping(patience = 10)\n",
        "model.fit(batched_train_ds, validation_data = batched_val_ds, epochs = 50, callbacks = [early_stopping_cb])"
      ],
      "metadata": {
        "colab": {
          "base_uri": "https://localhost:8080/"
        },
        "id": "KkcC06Jjlr4e",
        "outputId": "c970ef55-a87c-4331-c733-f7501cc16c94"
      },
      "execution_count": 189,
      "outputs": [
        {
          "output_type": "stream",
          "name": "stdout",
          "text": [
            "Epoch 1/50\n",
            "1688/1688 [==============================] - 33s 19ms/step - loss: 0.2158 - accuracy: 0.9483 - val_loss: 0.0697 - val_accuracy: 0.9798\n",
            "Epoch 2/50\n",
            "1688/1688 [==============================] - 31s 19ms/step - loss: 0.0835 - accuracy: 0.9772 - val_loss: 0.0823 - val_accuracy: 0.9778\n",
            "Epoch 3/50\n",
            "1688/1688 [==============================] - 31s 19ms/step - loss: 0.0657 - accuracy: 0.9810 - val_loss: 0.0650 - val_accuracy: 0.9847\n",
            "Epoch 4/50\n",
            "1688/1688 [==============================] - 31s 18ms/step - loss: 0.0485 - accuracy: 0.9861 - val_loss: 0.0925 - val_accuracy: 0.9801\n",
            "Epoch 5/50\n",
            "1688/1688 [==============================] - 31s 18ms/step - loss: 0.0398 - accuracy: 0.9882 - val_loss: 0.0805 - val_accuracy: 0.9860\n",
            "Epoch 6/50\n",
            "1688/1688 [==============================] - 31s 19ms/step - loss: 0.0392 - accuracy: 0.9887 - val_loss: 0.0670 - val_accuracy: 0.9852\n",
            "Epoch 7/50\n",
            "1688/1688 [==============================] - 31s 19ms/step - loss: 0.0308 - accuracy: 0.9911 - val_loss: 0.0763 - val_accuracy: 0.9841\n",
            "Epoch 8/50\n",
            "1688/1688 [==============================] - 32s 19ms/step - loss: 0.0301 - accuracy: 0.9914 - val_loss: 0.0999 - val_accuracy: 0.9818\n",
            "Epoch 9/50\n",
            "1688/1688 [==============================] - 32s 19ms/step - loss: 0.0282 - accuracy: 0.9923 - val_loss: 0.0704 - val_accuracy: 0.9882\n",
            "Epoch 10/50\n",
            "1688/1688 [==============================] - 32s 19ms/step - loss: 0.0232 - accuracy: 0.9933 - val_loss: 0.0728 - val_accuracy: 0.9878\n",
            "Epoch 11/50\n",
            "1688/1688 [==============================] - 32s 19ms/step - loss: 0.0196 - accuracy: 0.9945 - val_loss: 0.0768 - val_accuracy: 0.9887\n",
            "Epoch 12/50\n",
            "1688/1688 [==============================] - 32s 19ms/step - loss: 0.0195 - accuracy: 0.9946 - val_loss: 0.0890 - val_accuracy: 0.9869\n",
            "Epoch 13/50\n",
            "1688/1688 [==============================] - 32s 19ms/step - loss: 0.0202 - accuracy: 0.9947 - val_loss: 0.0751 - val_accuracy: 0.9889\n"
          ]
        },
        {
          "output_type": "execute_result",
          "data": {
            "text/plain": [
              "<keras.src.callbacks.History at 0x7df9e06c8cd0>"
            ]
          },
          "metadata": {},
          "execution_count": 189
        }
      ]
    }
  ]
}